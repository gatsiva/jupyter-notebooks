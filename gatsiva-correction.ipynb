{
 "cells": [
  {
   "cell_type": "code",
   "execution_count": null,
   "metadata": {
    "collapsed": true,
    "scrolled": false
   },
   "outputs": [],
   "source": [
    "# Install Prerequesities if needed\n",
    "#\n",
    "# Run this (uncomment below) to install / upgrade Plotly\n",
    "#!pip install plotly --upgrade\n",
    "#!pip install colorlover"
   ]
  },
  {
   "cell_type": "code",
   "execution_count": null,
   "metadata": {
    "scrolled": false
   },
   "outputs": [],
   "source": [
    "# Import utility libraries we will need\n",
    "import requests\n",
    "import json\n",
    "import numpy as np\n",
    "import pandas as pd\n",
    "import warnings\n",
    "import colorlover as cl\n",
    "\n",
    "# Import plotly for graphing awesomeness\n",
    "from plotly import __version__\n",
    "from plotly.offline import download_plotlyjs, init_notebook_mode, plot, iplot\n",
    "from plotly.graph_objs import *\n",
    "\n",
    "# To allow the jupyter notebook to render in offline mode\n",
    "init_notebook_mode(connected=True)\n",
    "\n",
    "# Ignore warnings\n",
    "warnings.filterwarnings('ignore')"
   ]
  },
  {
   "cell_type": "markdown",
   "metadata": {},
   "source": [
    "## Enter Input Information Here"
   ]
  },
  {
   "cell_type": "code",
   "execution_count": null,
   "metadata": {
    "collapsed": true
   },
   "outputs": [],
   "source": [
    "symbol = 'BTC:USD:daily'\n",
    "test_periods = np.arange(-0.10,0,0.02)\n",
    "periods = 45\n",
    "usingdatafrom = \"2017-01-09\"\n",
    "usingdatato = \"2018-01-09\"\n",
    "apikey = \"<your_api_key>\"  # enter your own API key here (to request an API key visit gatsiva.com)\n",
    "\n",
    "data_run_list = [] # List for mean return information\n",
    "obs_num_list = [] # List for storing number of observations in each run"
   ]
  },
  {
   "cell_type": "code",
   "execution_count": null,
   "metadata": {
    "collapsed": true
   },
   "outputs": [],
   "source": [
    "# Setup the headers for the request\n",
    "bearer_token = 'Bearer ' + apikey\n",
    "my_headers = {'Accept': 'application/json', 'Authorization': bearer_token}"
   ]
  },
  {
   "cell_type": "code",
   "execution_count": null,
   "metadata": {
    "scrolled": false
   },
   "outputs": [],
   "source": [
    "for p in test_periods:\n",
    "\n",
    "    # Print our progress\n",
    "    print('Running test period ' + str(p));\n",
    "    \n",
    "    # Create the condition\n",
    "    condition = 'price change percentage(1) < ' + str(p)\n",
    "\n",
    "    # Form the request\n",
    "    request_data = {'symbol':symbol,'condition_id':1,'condition':condition,\"periods\":periods,'from':usingdatafrom,'to':usingdatato}\n",
    "\n",
    "    # Send the request\n",
    "    analytic = requests.post('https://api.gatsiva.com/api/v1/conditions/return_profile',json=request_data,headers=my_headers)\n",
    "\n",
    "    # Pull out the results and format it into a pandas data frame\n",
    "    results = analytic.json()['results']\n",
    "    df = pd.read_json(json.dumps(results), orient='records')\n",
    "\n",
    "    # Add the mean and number of observations to our list\n",
    "    data_run_list.append(df['mean'])   \n",
    "    obs_num_list.append(results[0]['n'])\n",
    "    "
   ]
  },
  {
   "cell_type": "code",
   "execution_count": null,
   "metadata": {
    "collapsed": true,
    "scrolled": true
   },
   "outputs": [],
   "source": [
    "# Set up the color scales\n",
    "bupu = cl.scales['3']['seq']['BuPu']\n",
    "#bupu = cl.scales['9']['div']['Spectral']\n",
    "colorscale = cl.interp( bupu, 16 )\n",
    "colorscale.reverse()"
   ]
  },
  {
   "cell_type": "code",
   "execution_count": null,
   "metadata": {
    "collapsed": true
   },
   "outputs": [],
   "source": [
    "# Now create the data structure needed for plotly\n",
    "\n",
    "i=0\n",
    "data = []\n",
    "\n",
    "while i < len(test_periods):\n",
    "    data.append(\n",
    "        Scatter(\n",
    "            x=df['returnperiod'],\n",
    "            y=data_run_list[i],\n",
    "            name='> ' + str(test_periods[i]*100) + '% (' + str(obs_num_list[i]) + ' obs)',\n",
    "            marker = dict(\n",
    "                color = colorscale[i]\n",
    "            )\n",
    "        )\n",
    "    )\n",
    "    i = i + 1"
   ]
  },
  {
   "cell_type": "code",
   "execution_count": null,
   "metadata": {
    "collapsed": true,
    "scrolled": true
   },
   "outputs": [],
   "source": [
    "# Create the layout needed for plotly\n",
    "layout = Layout(\n",
    "    title='Average Return After Correction for ' + symbol + ' from ' + usingdatafrom + ' to ' + usingdatato,\n",
    "    yaxis=dict(title='return'),\n",
    "    xaxis=dict(title='days after correction')\n",
    ")\n",
    "\n",
    "# Create the figure\n",
    "fig = Figure(data=data, layout=layout)"
   ]
  },
  {
   "cell_type": "markdown",
   "metadata": {},
   "source": [
    "## Plot Result"
   ]
  },
  {
   "cell_type": "code",
   "execution_count": null,
   "metadata": {},
   "outputs": [],
   "source": [
    "# Plot the result\n",
    "iplot(fig)"
   ]
  }
 ],
 "metadata": {
  "kernelspec": {
   "display_name": "Python 3",
   "language": "python",
   "name": "python3"
  },
  "language_info": {
   "codemirror_mode": {
    "name": "ipython",
    "version": 3
   },
   "file_extension": ".py",
   "mimetype": "text/x-python",
   "name": "python",
   "nbconvert_exporter": "python",
   "pygments_lexer": "ipython3",
   "version": "3.6.1"
  }
 },
 "nbformat": 4,
 "nbformat_minor": 2
}
