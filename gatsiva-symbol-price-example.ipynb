{
 "cells": [
  {
   "cell_type": "markdown",
   "metadata": {},
   "source": [
    "# Gatsiva Symbol Price Example\n",
    "\n",
    "This notebook shows how retrieve cryptocurrency prices utilizing Gatsiva [Symbol Price Data](https://gatsiva.com/docs/#get-symbol-price-data) transaction.\n",
    "\n",
    "\n",
    "API access is **currently limited to beta testers and collaborators**. For more information on how to utilize the Gatsiva API or to request access and an API key, please visit the [Gatsiva Website](https://gatsiva.com). For more information on the Gatsiva API, please visit the [Gatsiva API Documentation](https://gatsiva.com/docs)."
   ]
  },
  {
   "cell_type": "markdown",
   "metadata": {},
   "source": [
    "## Enter Input Information Here"
   ]
  },
  {
   "cell_type": "code",
   "execution_count": null,
   "metadata": {
    "collapsed": true
   },
   "outputs": [],
   "source": [
    "# Enter the symbol and condition to use\n",
    "symbol = 'ETH:USD:daily'\n",
    "\n",
    "# Enter your API key for Gatsiva\n",
    "apikey = \"<your_api_key>\""
   ]
  },
  {
   "cell_type": "markdown",
   "metadata": {},
   "source": [
    "#### Python code to get the results - see results further below\n"
   ]
  },
  {
   "cell_type": "code",
   "execution_count": null,
   "metadata": {
    "collapsed": true,
    "scrolled": true
   },
   "outputs": [],
   "source": [
    "# Install Prerequesities if needed\n",
    "#\n",
    "# Run this (uncomment below) to install / upgrade Plotly\n",
    "#!pip install plotly --upgrade\n"
   ]
  },
  {
   "cell_type": "code",
   "execution_count": null,
   "metadata": {
    "collapsed": true,
    "scrolled": true
   },
   "outputs": [],
   "source": [
    "# Import utility libraries we will need\n",
    "import requests\n",
    "import json\n",
    "import numpy as np\n",
    "import pandas as pd\n",
    "import warnings\n",
    "import matplotlib.pyplot as plt\n",
    "from datetime import datetime\n",
    "from matplotlib.lines import Line2D\n",
    "\n",
    "# Import datetime for some time processing\n",
    "from datetime import datetime\n",
    "\n",
    "# Ignore warnings\n",
    "warnings.filterwarnings('ignore')\n",
    "\n",
    "# Allow matplotlib to render inline (needed for pandas plotting)\n",
    "%matplotlib inline\n"
   ]
  },
  {
   "cell_type": "markdown",
   "metadata": {},
   "source": [
    "#### Define Price Data API Call"
   ]
  },
  {
   "cell_type": "code",
   "execution_count": null,
   "metadata": {
    "collapsed": true
   },
   "outputs": [],
   "source": [
    "# Define the function for calling the historical data which will return a pandas data frame\n",
    "def call_price_data(symbol, apikey):\n",
    "    bearer_token = 'Bearer ' + apikey\n",
    "    my_headers = {'Accept': 'application/json', 'Authorization': bearer_token}\n",
    "    analytic = requests.get('https://api.gatsiva.com/api/v1/symbols/' + symbol,headers=my_headers)\n",
    "    results = analytic.json()['results']\n",
    "    \n",
    "    # The returning data structure looks like this\n",
    "    #\n",
    "    #    {\n",
    "    #      \"1505462664\": {\n",
    "    #        \"open\": 4203.02,\n",
    "    #        \"high\": 4302.11,\n",
    "    #        \"low\": 3990.02,\n",
    "    #        \"close\": 4102.88,\n",
    "    #        \"volume\": 123012312\n",
    "    #      }\n",
    "    #    },\n",
    "    #    {\n",
    "    #      \"1505549064\": {\n",
    "    #        \"open\": 4203.02,\n",
    "    #        \"high\": 4302.11,\n",
    "    #        \"low\": 3990.02,\n",
    "    #        \"close\": 4102.88,\n",
    "    #        \"volume\": 123012312\n",
    "    #      }\n",
    "    #    },\n",
    "    \n",
    "    # Because the timestamp marks the beginning of the period, we need to modify the timestamp appropriately\n",
    "    price_type = symbol.split(':')[2]\n",
    "\n",
    "    ts_offset = 0\n",
    "\n",
    "    if price_type == 'daily':\n",
    "        ts_offset = 86400 # Adds 1 day\n",
    "    elif price_type == 'hourly':\n",
    "        ts_offset = 3600 # Adds 1 hour\n",
    "\n",
    "    # We need to convert the string keys into timestamps\n",
    "    keys = []\n",
    "    for n in results.keys():\n",
    "        # We add the ts_offset to make sure that the label indicates the time at which this was true, which is the end of the period\n",
    "        keys.append(pd.Timestamp(datetime.utcfromtimestamp(int(n) + ts_offset)))\n",
    "\n",
    "    # Create the dataframe from the dictioanry results\n",
    "    newdf = pd.DataFrame.from_dict(results, orient='index')\n",
    "    \n",
    "    # Utilize our converted timestamps as the index\n",
    "    newdf.index = keys\n",
    "    \n",
    "    return newdf"
   ]
  },
  {
   "cell_type": "code",
   "execution_count": null,
   "metadata": {
    "collapsed": true
   },
   "outputs": [],
   "source": [
    "# API Call - Get the price data\n",
    "price_data = call_price_data(symbol, apikey)"
   ]
  },
  {
   "cell_type": "markdown",
   "metadata": {},
   "source": [
    "# Results"
   ]
  },
  {
   "cell_type": "code",
   "execution_count": null,
   "metadata": {},
   "outputs": [],
   "source": [
    "price_data.tail()"
   ]
  },
  {
   "cell_type": "code",
   "execution_count": null,
   "metadata": {
    "collapsed": true
   },
   "outputs": [],
   "source": []
  }
 ],
 "metadata": {
  "kernelspec": {
   "display_name": "Python 3",
   "language": "python",
   "name": "python3"
  },
  "language_info": {
   "codemirror_mode": {
    "name": "ipython",
    "version": 3
   },
   "file_extension": ".py",
   "mimetype": "text/x-python",
   "name": "python",
   "nbconvert_exporter": "python",
   "pygments_lexer": "ipython3",
   "version": "3.6.1"
  }
 },
 "nbformat": 4,
 "nbformat_minor": 2
}
