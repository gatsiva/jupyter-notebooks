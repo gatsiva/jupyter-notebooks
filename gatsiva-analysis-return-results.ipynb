{
 "cells": [
  {
   "cell_type": "markdown",
   "metadata": {},
   "source": [
    "# Gatsiva Sample Analysis\n",
    "## Visualizing Return Results\n",
    "\n",
    "This notebook shows how to visualize the distribution of returns after an event occurs utilizing the Gatsiva API.\n",
    "\n",
    "API access is **currently limited to beta testers and collaborators**. For more information on how to utilize the Gatsiva API or to request access and an API key, please visit the [Gatsiva Website](https://gatsiva.com). For more information on the Gatsiva API, please visit the [Gatsiva API Documentation](https://gatsiva.com/docs)."
   ]
  },
  {
   "cell_type": "markdown",
   "metadata": {},
   "source": [
    "## Enter Input Information Here"
   ]
  },
  {
   "cell_type": "code",
   "execution_count": null,
   "metadata": {
    "collapsed": true
   },
   "outputs": [],
   "source": [
    "symbol = 'BTC:USD:hourly'\n",
    "condition = 'close(1) < low(168) 1 period ago'\n",
    "stddev_bands = 1.5\n",
    "periods = 336\n",
    "usingdatafrom = \"2016-12-04\"\n",
    "usingdatato = \"2018-01-10\"\n",
    "apikey = \"<your_api_key>\""
   ]
  },
  {
   "cell_type": "markdown",
   "metadata": {},
   "source": [
    "#### Python code to get the results - see results further below"
   ]
  },
  {
   "cell_type": "code",
   "execution_count": null,
   "metadata": {
    "collapsed": true,
    "scrolled": true
   },
   "outputs": [],
   "source": [
    "# Install Prerequesities if needed\n",
    "#\n",
    "# Run this (uncomment below) to install / upgrade Plotly\n",
    "#!pip install plotly --upgrade\n"
   ]
  },
  {
   "cell_type": "code",
   "execution_count": null,
   "metadata": {
    "scrolled": false
   },
   "outputs": [],
   "source": [
    "# Import utility libraries we will need\n",
    "import requests\n",
    "import json\n",
    "import numpy as np\n",
    "import pandas as pd\n",
    "import warnings\n",
    "\n",
    "# Import plotly for graphing awesomeness\n",
    "from plotly import __version__\n",
    "from plotly.offline import download_plotlyjs, init_notebook_mode, plot, iplot\n",
    "from plotly.graph_objs import *\n",
    "\n",
    "# To allow the jupyter notebook to render in offline mode\n",
    "init_notebook_mode(connected=True)\n",
    "\n",
    "# Ignore warnings\n",
    "warnings.filterwarnings('ignore')\n",
    "\n",
    "# Form the request\n",
    "request_data = {'symbol':symbol,'condition_id':1,'condition':condition,\"periods\":periods,'from':usingdatafrom,'to':usingdatato}\n",
    "bearer_token = 'Bearer ' + apikey\n",
    "my_headers = {'Accept': 'application/json', 'Authorization': bearer_token}\n",
    "\n",
    "# Send the request\n",
    "analytic = requests.post('https://api.gatsiva.com/api/v1/conditions/return_profile',json=request_data,headers=my_headers)\n",
    "\n",
    "# Pull out the results and format it into a pandas data frame\n",
    "results = analytic.json()['results']\n",
    "df = pd.read_json(json.dumps(results), orient='records')\n",
    "\n",
    "# Now add two new columns to support lines for 2x stddevs\n",
    "df['upper'] = df['mean'] + ((stddev_bands/2) * df['stddev'])\n",
    "df['lower'] = df['mean'] - ((stddev_bands/2) * df['stddev'])\n",
    "\n",
    "# Get the number of observations\n",
    "num_observations = results[0]['n']\n",
    "\n",
    "# Create the data structure needed for plotly\n",
    "data = [\n",
    "    Scatter(\n",
    "        x=df['returnperiod'],\n",
    "        y=df['mean'],\n",
    "        name='mean'\n",
    "    ),\n",
    "    Scatter(\n",
    "        x=df['returnperiod'], \n",
    "        y=df['upper'],\n",
    "        name=str(stddev_bands) + ' stddev band upper'\n",
    "    ),\n",
    "    Scatter(\n",
    "        x=df['returnperiod'], \n",
    "        y=df['lower'],\n",
    "        name=str(stddev_bands) + ' stddev band lower'\n",
    "\n",
    "    )\n",
    "]\n",
    "\n",
    "# Create the layout needed for plotly\n",
    "layout = Layout(\n",
    "    title=condition + ' -- ' + str(num_observations) + ' observations',\n",
    "    yaxis=dict(title='return'),\n",
    "    xaxis=dict(title='periods after event'),\n",
    "    legend=dict(orientation=\"h\",x=0.15, y=-0.2)\n",
    ")\n",
    "\n",
    "# Create the figure\n",
    "fig = Figure(data=data, layout=layout)"
   ]
  },
  {
   "cell_type": "markdown",
   "metadata": {},
   "source": [
    "## Results"
   ]
  },
  {
   "cell_type": "code",
   "execution_count": null,
   "metadata": {
    "scrolled": false
   },
   "outputs": [],
   "source": [
    "# Plot the result\n",
    "iplot(fig)"
   ]
  },
  {
   "cell_type": "markdown",
   "metadata": {},
   "source": [
    "### Detailed Results\n",
    "\n",
    "Below here, you can see the detailed results within the dataframe. Note how the upper and lower columns were added in the earlier step."
   ]
  },
  {
   "cell_type": "code",
   "execution_count": null,
   "metadata": {},
   "outputs": [],
   "source": [
    "df"
   ]
  },
  {
   "cell_type": "code",
   "execution_count": null,
   "metadata": {
    "collapsed": true
   },
   "outputs": [],
   "source": []
  }
 ],
 "metadata": {
  "kernelspec": {
   "display_name": "Python 3",
   "language": "python",
   "name": "python3"
  },
  "language_info": {
   "codemirror_mode": {
    "name": "ipython",
    "version": 3
   },
   "file_extension": ".py",
   "mimetype": "text/x-python",
   "name": "python",
   "nbconvert_exporter": "python",
   "pygments_lexer": "ipython3",
   "version": "3.6.1"
  }
 },
 "nbformat": 4,
 "nbformat_minor": 2
}
