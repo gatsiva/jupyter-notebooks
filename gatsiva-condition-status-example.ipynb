{
 "cells": [
  {
   "cell_type": "markdown",
   "metadata": {},
   "source": [
    "# Gatsiva Condition Status Transaction\n",
    "\n",
    "This notebook shows how to use the Gatsiva [Condition Status](https://gatsiva.com/docs/#condition-status) transaction.\n",
    "\n",
    "The purpose of the condition status transaction is to show if an event is currently true or false for a given crytocurrency symbol.\n",
    "\n",
    "API access is **currently limited to beta testers and collaborators**. For more information on how to utilize the Gatsiva API or to request access and an API key, please visit the [Gatsiva Website](https://gatsiva.com). For more information on the Gatsiva API, please visit the [Gatsiva API Documentation](https://gatsiva.com/docs)."
   ]
  },
  {
   "cell_type": "markdown",
   "metadata": {},
   "source": [
    "## Enter Input Information Here"
   ]
  },
  {
   "cell_type": "code",
   "execution_count": 1,
   "metadata": {
    "collapsed": true
   },
   "outputs": [],
   "source": [
    "symbol = 'BTC:USD:daily' # The symbol\n",
    "conditions = [\n",
    "    'bollinger range(14,2) > 0.5',\n",
    "    'close(1) > 10000',\n",
    "    'sma(7) > sma(14)'\n",
    "]\n",
    "\n",
    "apikey = \"<your_api_key>\" # Your particular API key"
   ]
  },
  {
   "cell_type": "markdown",
   "metadata": {},
   "source": [
    "#### Python code to get the results - see results further below"
   ]
  },
  {
   "cell_type": "code",
   "execution_count": 2,
   "metadata": {
    "collapsed": true,
    "scrolled": true
   },
   "outputs": [],
   "source": [
    "# Import utility libraries we will need\n",
    "import requests\n",
    "import json\n",
    "import pandas as pd\n",
    "import warnings\n",
    "\n",
    "# Import datetime for some time processing\n",
    "from datetime import datetime\n",
    "\n",
    "# Ignore warnings\n",
    "warnings.filterwarnings('ignore')\n",
    "\n",
    "# Form the request\n",
    "request_data = {'symbol':symbol,'conditions':conditions}\n",
    "bearer_token = 'Bearer ' + apikey\n",
    "my_headers = {'Accept': 'application/json', 'Authorization': bearer_token}\n",
    "\n",
    "# Send the request\n",
    "analytic = requests.post('https://api.gatsiva.com/api/v1/conditions/status',json=request_data,headers=my_headers)\n",
    "\n",
    "# Pull out the results and format it into a pandas data frame\n",
    "results = analytic.json()['conditions']\n",
    "df = pd.read_json(json.dumps(results), orient='records')"
   ]
  },
  {
   "cell_type": "markdown",
   "metadata": {},
   "source": [
    "# Results"
   ]
  },
  {
   "cell_type": "code",
   "execution_count": 3,
   "metadata": {
    "scrolled": true
   },
   "outputs": [
    {
     "data": {
      "text/html": [
       "<div>\n",
       "<style>\n",
       "    .dataframe thead tr:only-child th {\n",
       "        text-align: right;\n",
       "    }\n",
       "\n",
       "    .dataframe thead th {\n",
       "        text-align: left;\n",
       "    }\n",
       "\n",
       "    .dataframe tbody tr th {\n",
       "        vertical-align: top;\n",
       "    }\n",
       "</style>\n",
       "<table border=\"1\" class=\"dataframe\">\n",
       "  <thead>\n",
       "    <tr style=\"text-align: right;\">\n",
       "      <th></th>\n",
       "      <th>definition</th>\n",
       "      <th>value</th>\n",
       "    </tr>\n",
       "  </thead>\n",
       "  <tbody>\n",
       "    <tr>\n",
       "      <th>0</th>\n",
       "      <td>bollinger range(14,2) &gt; 0.5</td>\n",
       "      <td>True</td>\n",
       "    </tr>\n",
       "    <tr>\n",
       "      <th>1</th>\n",
       "      <td>close(1) &gt; 10000</td>\n",
       "      <td>True</td>\n",
       "    </tr>\n",
       "    <tr>\n",
       "      <th>2</th>\n",
       "      <td>sma(7) &gt; sma(14)</td>\n",
       "      <td>True</td>\n",
       "    </tr>\n",
       "  </tbody>\n",
       "</table>\n",
       "</div>"
      ],
      "text/plain": [
       "                    definition  value\n",
       "0  bollinger range(14,2) > 0.5   True\n",
       "1             close(1) > 10000   True\n",
       "2             sma(7) > sma(14)   True"
      ]
     },
     "execution_count": 3,
     "metadata": {},
     "output_type": "execute_result"
    }
   ],
   "source": [
    "# Preview the results in the dataframe\n",
    "df"
   ]
  },
  {
   "cell_type": "code",
   "execution_count": null,
   "metadata": {
    "collapsed": true
   },
   "outputs": [],
   "source": []
  }
 ],
 "metadata": {
  "kernelspec": {
   "display_name": "Python 3",
   "language": "python",
   "name": "python3"
  },
  "language_info": {
   "codemirror_mode": {
    "name": "ipython",
    "version": 3
   },
   "file_extension": ".py",
   "mimetype": "text/x-python",
   "name": "python",
   "nbconvert_exporter": "python",
   "pygments_lexer": "ipython3",
   "version": "3.6.1"
  }
 },
 "nbformat": 4,
 "nbformat_minor": 2
}
