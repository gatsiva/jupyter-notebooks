{
 "cells": [
  {
   "cell_type": "markdown",
   "metadata": {},
   "source": [
    "# Gatsiva Condition History Transaction\n",
    "\n",
    "This notebook shows how to use and visualize the Gatsiva [Condition History](https://gatsiva.com/docs/#condition-history) transaction with Matplot.\n",
    "\n",
    "The purpose of the condition history transaction is to show when an event was true in the past for any particular  condition and symbol set. It returns a true or false value for every data point in our price history for any given cryptocurrency pair.\n",
    "\n",
    "API access is **currently limited to beta testers and collaborators**. For more information on how to utilize the Gatsiva API or to request access and an API key, please visit the [Gatsiva Website](https://gatsiva.com). For more information on the Gatsiva API, please visit the [Gatsiva API Documentation](https://gatsiva.com/docs)."
   ]
  },
  {
   "cell_type": "markdown",
   "metadata": {},
   "source": [
    "## Enter Input Information Here"
   ]
  },
  {
   "cell_type": "code",
   "execution_count": null,
   "metadata": {
    "collapsed": true
   },
   "outputs": [],
   "source": [
    "symbol = 'BTC:USD:daily' # The symbol\n",
    "condition = 'bollinger range(14,2) crosses below 0' # The condition\n",
    "\n",
    "graph_from = '2015-12-04' # From what date to visualize the results\n",
    "apikey = \"<your_api_key>\" # Your particular API key"
   ]
  },
  {
   "cell_type": "markdown",
   "metadata": {},
   "source": [
    "#### Python code to get the results - see results further below"
   ]
  },
  {
   "cell_type": "code",
   "execution_count": null,
   "metadata": {
    "collapsed": true,
    "scrolled": true
   },
   "outputs": [],
   "source": [
    "# Import utility libraries we will need\n",
    "import requests\n",
    "import json\n",
    "import numpy as np\n",
    "import pandas as pd\n",
    "import warnings\n",
    "import matplotlib.pyplot as plt\n",
    "\n",
    "# Import datetime for some time processing\n",
    "from datetime import datetime\n",
    "\n",
    "# Ignore warnings\n",
    "warnings.filterwarnings('ignore')\n",
    "\n",
    "# Allow matplotlib to render inline (needed for pandas plotting)\n",
    "%matplotlib inline\n",
    "\n",
    "# Form the request\n",
    "request_data = {'symbol':symbol,'condition':condition}\n",
    "bearer_token = 'Bearer ' + apikey\n",
    "my_headers = {'Accept': 'application/json', 'Authorization': bearer_token}\n",
    "\n",
    "# Send the request\n",
    "analytic = requests.post('https://api.gatsiva.com/api/v1/conditions/history',json=request_data,headers=my_headers)\n",
    "\n",
    "# Pull out the results and format it into a pandas data frame\n",
    "results = analytic.json()['results']\n",
    "\n",
    "# At the moment the data structure looks like this\n",
    "#\n",
    "#  {'1515441600': False,\n",
    "#   '1515438000': False,\n",
    "#   '1515434400': False,\n",
    "#\n",
    "# We need to convert the string keys into timestamps\n",
    "\n",
    "\n",
    "# Because the timestamp marks the beginning of the period, we need to modify the timestamp appropriately\n",
    "price_type = symbol.split(':')[2]\n",
    "\n",
    "ts_offset = 0\n",
    "\n",
    "if price_type == 'daily':\n",
    "    ts_offset = 86400\n",
    "elif price_type == 'hourly':\n",
    "    ts_offset = 3600\n",
    "\n",
    "keys = []\n",
    "for n in results.keys():\n",
    "    # Because the timestamp marks the beginning of the period, we need to modify the timestamp appropriately\n",
    "    keys.append(pd.Timestamp(datetime.utcfromtimestamp(int(n) + ts_offset)))\n",
    "\n",
    "# And we need to convert the values into a numpy array\n",
    "values = np.array(list(results.values()))\n",
    "\n",
    "# Now make a data frame with pandas\n",
    "df = pd.DataFrame(values, index=keys, columns=['result'])\n"
   ]
  },
  {
   "cell_type": "markdown",
   "metadata": {},
   "source": [
    "# Results"
   ]
  },
  {
   "cell_type": "code",
   "execution_count": null,
   "metadata": {
    "collapsed": true,
    "scrolled": true
   },
   "outputs": [],
   "source": [
    "# Preview the results in the dataframe\n",
    "df.head()"
   ]
  },
  {
   "cell_type": "code",
   "execution_count": null,
   "metadata": {
    "collapsed": true,
    "scrolled": false
   },
   "outputs": [],
   "source": [
    "# Create a list that only includes items beyond the time we want\n",
    "dftime = df[:graph_from]\n",
    "\n",
    "# Visualize the results in a line chart\n",
    "dftime.plot(legend=False, figsize=(16,4), title=condition + ' on ' + symbol)"
   ]
  },
  {
   "cell_type": "code",
   "execution_count": null,
   "metadata": {
    "collapsed": true
   },
   "outputs": [],
   "source": [
    "# View a table of when this event was true \n",
    "df[df.result == True]"
   ]
  },
  {
   "cell_type": "code",
   "execution_count": null,
   "metadata": {
    "collapsed": true
   },
   "outputs": [],
   "source": []
  }
 ],
 "metadata": {
  "kernelspec": {
   "display_name": "Python 3",
   "language": "python",
   "name": "python3"
  },
  "language_info": {
   "codemirror_mode": {
    "name": "ipython",
    "version": 3
   },
   "file_extension": ".py",
   "mimetype": "text/x-python",
   "name": "python",
   "nbconvert_exporter": "python",
   "pygments_lexer": "ipython3",
   "version": "3.6.1"
  }
 },
 "nbformat": 4,
 "nbformat_minor": 2
}
