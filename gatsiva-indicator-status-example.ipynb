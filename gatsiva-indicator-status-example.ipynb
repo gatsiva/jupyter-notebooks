{
 "cells": [
  {
   "cell_type": "markdown",
   "metadata": {},
   "source": [
    "# Gatsiva Indicator Status Transaction\n",
    "\n",
    "This notebook shows how to use the Gatsiva [Indicator Status](https://gatsiva.com/docs/#indicator-status) transaction.\n",
    "\n",
    "The purpose of the indicator status transaction is to return the value of expressions written in the Gatsiva Language\n",
    "\n",
    "API access is **currently limited to beta testers and collaborators**. For more information on how to utilize the Gatsiva API or to request access and an API key, please visit the [Gatsiva Website](https://gatsiva.com). For more information on the Gatsiva API, please visit the [Gatsiva API Documentation](https://gatsiva.com/docs)."
   ]
  },
  {
   "cell_type": "markdown",
   "metadata": {},
   "source": [
    "## Enter Input Information Here"
   ]
  },
  {
   "cell_type": "code",
   "execution_count": null,
   "metadata": {
    "collapsed": true
   },
   "outputs": [],
   "source": [
    "# The symbol\n",
    "symbol = 'BTC:USD:daily'\n",
    "\n",
    "# The indicators you'd like to get data for\n",
    "indicators = [\n",
    "    'close(1)',\n",
    "    'sma(14)',\n",
    "    'bollinger range(14,2)'\n",
    "]\n",
    "\n",
    "apikey = \"<your_api_key>\" # Your particular API key"
   ]
  },
  {
   "cell_type": "markdown",
   "metadata": {},
   "source": [
    "#### Python code to get the results - see results further below"
   ]
  },
  {
   "cell_type": "code",
   "execution_count": null,
   "metadata": {
    "scrolled": true
   },
   "outputs": [],
   "source": [
    "# Import utility libraries we will need\n",
    "import requests\n",
    "import json\n",
    "import pandas as pd\n",
    "import warnings\n",
    "\n",
    "# Import datetime for some time processing\n",
    "from datetime import datetime\n",
    "\n",
    "# Ignore warnings\n",
    "warnings.filterwarnings('ignore')\n",
    "\n",
    "# Form the request\n",
    "request_data = {'symbol':symbol,'indicators':indicators}\n",
    "bearer_token = 'Bearer ' + apikey\n",
    "my_headers = {'Accept': 'application/json', 'Authorization': bearer_token}\n",
    "\n",
    "# Send the request\n",
    "analytic = requests.post('https://api.gatsiva.com/api/v1/indicators/status',json=request_data,headers=my_headers)\n",
    "\n",
    "# Pull out the results and format it into a pandas data frame\n",
    "results = analytic.json()['indicators']\n",
    "df = pd.read_json(json.dumps(results), orient='records')"
   ]
  },
  {
   "cell_type": "markdown",
   "metadata": {},
   "source": [
    "# Results"
   ]
  },
  {
   "cell_type": "code",
   "execution_count": null,
   "metadata": {
    "scrolled": true
   },
   "outputs": [],
   "source": [
    "# Preview the results in the dataframe\n",
    "df"
   ]
  },
  {
   "cell_type": "code",
   "execution_count": null,
   "metadata": {
    "collapsed": true
   },
   "outputs": [],
   "source": []
  }
 ],
 "metadata": {
  "kernelspec": {
   "display_name": "Python 3",
   "language": "python",
   "name": "python3"
  },
  "language_info": {
   "codemirror_mode": {
    "name": "ipython",
    "version": 3
   },
   "file_extension": ".py",
   "mimetype": "text/x-python",
   "name": "python",
   "nbconvert_exporter": "python",
   "pygments_lexer": "ipython3",
   "version": "3.6.1"
  }
 },
 "nbformat": 4,
 "nbformat_minor": 2
}
