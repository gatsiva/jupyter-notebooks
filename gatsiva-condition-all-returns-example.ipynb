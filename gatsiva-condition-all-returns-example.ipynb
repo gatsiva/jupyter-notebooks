{
 "cells": [
  {
   "cell_type": "markdown",
   "metadata": {},
   "source": [
    "# Gatsiva Condition All Returns Transaction\n",
    "\n",
    "This notebook shows how to use and visualize the Gatsiva [Condition Returns (All)](https://gatsiva.com/docs/#condition-returns-all) transaction with Matplot.\n",
    "\n",
    "The purpose of the condition returns all transaction is to show the period-by-period returns after each time a specific condition event occurs. \n",
    "\n",
    "API access is **currently limited to beta testers and collaborators**. For more information on how to utilize the Gatsiva API or to request access and an API key, please visit the [Gatsiva Website](https://gatsiva.com). For more information on the Gatsiva API, please visit the [Gatsiva API Documentation](https://gatsiva.com/docs)."
   ]
  },
  {
   "cell_type": "markdown",
   "metadata": {},
   "source": [
    "## Enter Input Information Here"
   ]
  },
  {
   "cell_type": "code",
   "execution_count": 1,
   "metadata": {
    "collapsed": true
   },
   "outputs": [],
   "source": [
    "symbol = 'BTC:USD:daily'\n",
    "condition = 'bollinger range(20,2) crosses below 0'\n",
    "periods = 20\n",
    "usingdatafrom = \"2017-06-01\"\n",
    "usingdatato = \"2017-09-20\"\n",
    "apikey = \"<your_api_key>\""
   ]
  },
  {
   "cell_type": "markdown",
   "metadata": {},
   "source": [
    "#### Python code to get the results - see results further below"
   ]
  },
  {
   "cell_type": "code",
   "execution_count": 3,
   "metadata": {
    "scrolled": true
   },
   "outputs": [],
   "source": [
    "# Import utility libraries we will need\n",
    "import requests\n",
    "import json\n",
    "import numpy as np\n",
    "import pandas as pd\n",
    "import warnings\n",
    "\n",
    "# Import plotly for graphing awesomeness\n",
    "import matplotlib.pyplot as plt\n",
    "\n",
    "# Ignore warnings\n",
    "warnings.filterwarnings('ignore')\n",
    "\n",
    "# Allow matplotlib to render inline (needed for pandas plotting)\n",
    "%matplotlib inline\n",
    "\n",
    "# Form the request\n",
    "request_data = {'symbol':symbol,'condition_id':1,'condition':condition,\"periods\":periods,'from':usingdatafrom,'to':usingdatato}\n",
    "bearer_token = 'Bearer ' + apikey\n",
    "my_headers = {'Accept': 'application/json', 'Authorization': bearer_token}\n",
    "\n",
    "# Send the request\n",
    "analytic = requests.post('https://api.gatsiva.com/api/v1/conditions/all_returns',json=request_data,headers=my_headers)\n",
    "\n",
    "# Pull out the results and format it into a pandas data frame\n",
    "results = analytic.json()['results']\n",
    "df = pd.read_json(json.dumps(results), orient='records')\n",
    "df.sort_index(inplace=True)"
   ]
  },
  {
   "cell_type": "markdown",
   "metadata": {},
   "source": [
    "## Example of Raw Results\n",
    "\n",
    "Notice in the data table below, we now have each event in a column with the periods as the index. You will notice that NaN appears for any value that does not yet appear. In this case, since our input time period was only up to 2017-09-20, the event that occurred on 2017-09-13 does not yet have data for the 8th period and beyond since it had not occurred yet."
   ]
  },
  {
   "cell_type": "code",
   "execution_count": 4,
   "metadata": {
    "scrolled": false
   },
   "outputs": [
    {
     "data": {
      "text/html": [
       "<div>\n",
       "<style>\n",
       "    .dataframe thead tr:only-child th {\n",
       "        text-align: right;\n",
       "    }\n",
       "\n",
       "    .dataframe thead th {\n",
       "        text-align: left;\n",
       "    }\n",
       "\n",
       "    .dataframe tbody tr th {\n",
       "        vertical-align: top;\n",
       "    }\n",
       "</style>\n",
       "<table border=\"1\" class=\"dataframe\">\n",
       "  <thead>\n",
       "    <tr style=\"text-align: right;\">\n",
       "      <th></th>\n",
       "      <th>2017-07-10 00:00:00</th>\n",
       "      <th>2017-07-14 00:00:00</th>\n",
       "      <th>2017-09-13 00:00:00</th>\n",
       "    </tr>\n",
       "  </thead>\n",
       "  <tbody>\n",
       "    <tr>\n",
       "      <th>1</th>\n",
       "      <td>-0.008417</td>\n",
       "      <td>-0.115967</td>\n",
       "      <td>-0.162058</td>\n",
       "    </tr>\n",
       "    <tr>\n",
       "      <th>2</th>\n",
       "      <td>0.025200</td>\n",
       "      <td>-0.143266</td>\n",
       "      <td>-0.040444</td>\n",
       "    </tr>\n",
       "    <tr>\n",
       "      <th>3</th>\n",
       "      <td>0.007858</td>\n",
       "      <td>-0.000349</td>\n",
       "      <td>-0.044278</td>\n",
       "    </tr>\n",
       "    <tr>\n",
       "      <th>4</th>\n",
       "      <td>-0.046864</td>\n",
       "      <td>0.038520</td>\n",
       "      <td>-0.046684</td>\n",
       "    </tr>\n",
       "    <tr>\n",
       "      <th>5</th>\n",
       "      <td>-0.157396</td>\n",
       "      <td>0.021668</td>\n",
       "      <td>0.059424</td>\n",
       "    </tr>\n",
       "    <tr>\n",
       "      <th>6</th>\n",
       "      <td>-0.183416</td>\n",
       "      <td>0.282812</td>\n",
       "      <td>0.009733</td>\n",
       "    </tr>\n",
       "    <tr>\n",
       "      <th>7</th>\n",
       "      <td>-0.047197</td>\n",
       "      <td>0.197348</td>\n",
       "      <td>0.003067</td>\n",
       "    </tr>\n",
       "    <tr>\n",
       "      <th>8</th>\n",
       "      <td>-0.010149</td>\n",
       "      <td>0.269612</td>\n",
       "      <td>NaN</td>\n",
       "    </tr>\n",
       "    <tr>\n",
       "      <th>9</th>\n",
       "      <td>-0.026211</td>\n",
       "      <td>0.233841</td>\n",
       "      <td>NaN</td>\n",
       "    </tr>\n",
       "    <tr>\n",
       "      <th>10</th>\n",
       "      <td>0.222694</td>\n",
       "      <td>0.236889</td>\n",
       "      <td>NaN</td>\n",
       "    </tr>\n",
       "    <tr>\n",
       "      <th>11</th>\n",
       "      <td>0.141236</td>\n",
       "      <td>0.155946</td>\n",
       "      <td>NaN</td>\n",
       "    </tr>\n",
       "    <tr>\n",
       "      <th>12</th>\n",
       "      <td>0.210113</td>\n",
       "      <td>0.145486</td>\n",
       "      <td>NaN</td>\n",
       "    </tr>\n",
       "    <tr>\n",
       "      <th>13</th>\n",
       "      <td>0.176018</td>\n",
       "      <td>0.204868</td>\n",
       "      <td>NaN</td>\n",
       "    </tr>\n",
       "    <tr>\n",
       "      <th>14</th>\n",
       "      <td>0.178923</td>\n",
       "      <td>0.256283</td>\n",
       "      <td>NaN</td>\n",
       "    </tr>\n",
       "    <tr>\n",
       "      <th>15</th>\n",
       "      <td>0.101774</td>\n",
       "      <td>0.223497</td>\n",
       "      <td>NaN</td>\n",
       "    </tr>\n",
       "    <tr>\n",
       "      <th>16</th>\n",
       "      <td>0.091804</td>\n",
       "      <td>0.238263</td>\n",
       "      <td>NaN</td>\n",
       "    </tr>\n",
       "    <tr>\n",
       "      <th>17</th>\n",
       "      <td>0.148403</td>\n",
       "      <td>0.290533</td>\n",
       "      <td>NaN</td>\n",
       "    </tr>\n",
       "    <tr>\n",
       "      <th>18</th>\n",
       "      <td>0.197409</td>\n",
       "      <td>0.229535</td>\n",
       "      <td>NaN</td>\n",
       "    </tr>\n",
       "    <tr>\n",
       "      <th>19</th>\n",
       "      <td>0.166159</td>\n",
       "      <td>0.217692</td>\n",
       "      <td>NaN</td>\n",
       "    </tr>\n",
       "    <tr>\n",
       "      <th>20</th>\n",
       "      <td>0.180233</td>\n",
       "      <td>0.257733</td>\n",
       "      <td>NaN</td>\n",
       "    </tr>\n",
       "  </tbody>\n",
       "</table>\n",
       "</div>"
      ],
      "text/plain": [
       "    2017-07-10  2017-07-14  2017-09-13\n",
       "1    -0.008417   -0.115967   -0.162058\n",
       "2     0.025200   -0.143266   -0.040444\n",
       "3     0.007858   -0.000349   -0.044278\n",
       "4    -0.046864    0.038520   -0.046684\n",
       "5    -0.157396    0.021668    0.059424\n",
       "6    -0.183416    0.282812    0.009733\n",
       "7    -0.047197    0.197348    0.003067\n",
       "8    -0.010149    0.269612         NaN\n",
       "9    -0.026211    0.233841         NaN\n",
       "10    0.222694    0.236889         NaN\n",
       "11    0.141236    0.155946         NaN\n",
       "12    0.210113    0.145486         NaN\n",
       "13    0.176018    0.204868         NaN\n",
       "14    0.178923    0.256283         NaN\n",
       "15    0.101774    0.223497         NaN\n",
       "16    0.091804    0.238263         NaN\n",
       "17    0.148403    0.290533         NaN\n",
       "18    0.197409    0.229535         NaN\n",
       "19    0.166159    0.217692         NaN\n",
       "20    0.180233    0.257733         NaN"
      ]
     },
     "execution_count": 4,
     "metadata": {},
     "output_type": "execute_result"
    }
   ],
   "source": [
    "df"
   ]
  },
  {
   "cell_type": "markdown",
   "metadata": {},
   "source": [
    "### Simple Plot of the Results"
   ]
  },
  {
   "cell_type": "code",
   "execution_count": 5,
   "metadata": {},
   "outputs": [
    {
     "data": {
      "text/plain": [
       "<matplotlib.axes._subplots.AxesSubplot at 0x10e8784e0>"
      ]
     },
     "execution_count": 5,
     "metadata": {},
     "output_type": "execute_result"
    },
    {
     "data": {
      "image/png": "[encoded data removed]",
      "text/plain": [
       "<matplotlib.figure.Figure at 0x10e86eef0>"
      ]
     },
     "metadata": {},
     "output_type": "display_data"
    }
   ],
   "source": [
    "df.plot()"
   ]
  }
 ],
 "metadata": {
  "kernelspec": {
   "display_name": "Python 3",
   "language": "python",
   "name": "python3"
  },
  "language_info": {
   "codemirror_mode": {
    "name": "ipython",
    "version": 3
   },
   "file_extension": ".py",
   "mimetype": "text/x-python",
   "name": "python",
   "nbconvert_exporter": "python",
   "pygments_lexer": "ipython3",
   "version": "3.6.1"
  }
 },
 "nbformat": 4,
 "nbformat_minor": 2
}
